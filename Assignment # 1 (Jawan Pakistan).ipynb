{
 "cells": [
  {
   "cell_type": "markdown",
   "id": "a6a786c1",
   "metadata": {},
   "source": [
    "# Q1:"
   ]
  },
  {
   "cell_type": "code",
   "execution_count": 1,
   "id": "de10a8b8",
   "metadata": {},
   "outputs": [
    {
     "name": "stdout",
     "output_type": "stream",
     "text": [
      "Twinke Twinkle Little Star \n",
      "\t How I wonder what you are! \n",
      "\t\t up above the world so high \n",
      "\t\t Like a diamond in the sky \n",
      " Twinke Twinkle Little Star \n",
      "\t How I wonder what you are!\n"
     ]
    }
   ],
   "source": [
    "print('Twinke Twinkle Little Star \\n\\t How I wonder what you are! \\n\\t\\t up above the world so high \\n\\t\\t Like a diamond in the sky \\n Twinke Twinkle Little Star \\n\\t How I wonder what you are!')"
   ]
  },
  {
   "cell_type": "markdown",
   "id": "484d0fff",
   "metadata": {},
   "source": [
    "# Q2:"
   ]
  },
  {
   "cell_type": "code",
   "execution_count": 2,
   "id": "bd6c33f5",
   "metadata": {},
   "outputs": [
    {
     "name": "stdout",
     "output_type": "stream",
     "text": [
      "I am using python version : 3.9.7 (default, Sep 16 2021, 16:59:28) [MSC v.1916 64 bit (AMD64)]\n"
     ]
    }
   ],
   "source": [
    "import sys\n",
    "print('I am using python version :',sys.version)"
   ]
  },
  {
   "cell_type": "markdown",
   "id": "2bf2c977",
   "metadata": {},
   "source": [
    "# Q3:"
   ]
  },
  {
   "cell_type": "code",
   "execution_count": 11,
   "id": "67e833b8",
   "metadata": {},
   "outputs": [
    {
     "name": "stdout",
     "output_type": "stream",
     "text": [
      "Current date and time is December 28,2021 22:35:48\n"
     ]
    }
   ],
   "source": [
    "from datetime import datetime\n",
    "time_in_string = current_date_time.strftime(\"%B %d,%Y %H:%M:%S\")\n",
    "print(\"Current date and time is\", time_in_string)\t\n"
   ]
  },
  {
   "cell_type": "markdown",
   "id": "7df00956",
   "metadata": {},
   "source": [
    "# Q4:"
   ]
  },
  {
   "cell_type": "code",
   "execution_count": 20,
   "id": "2b8f27a3",
   "metadata": {},
   "outputs": [
    {
     "name": "stdout",
     "output_type": "stream",
     "text": [
      "Insert the value of Radius :12.9\n",
      "Area of the circle is : 522.7924334838775\n"
     ]
    }
   ],
   "source": [
    "import math\n",
    "Radius = float(input('Insert the value of Radius :'))\n",
    "Area = math.pi*(Radius**2)\n",
    "print('Area of the circle is :',Area)"
   ]
  },
  {
   "cell_type": "markdown",
   "id": "138f8b5d",
   "metadata": {},
   "source": [
    "# Q5:\n"
   ]
  },
  {
   "cell_type": "code",
   "execution_count": 21,
   "id": "900af260",
   "metadata": {},
   "outputs": [
    {
     "name": "stdout",
     "output_type": "stream",
     "text": [
      "Enter your First Name :Fahad\n",
      "Enter your Last Name :Siddiqui\n",
      "Siddiqui   Fahad\n"
     ]
    }
   ],
   "source": [
    "Firstname = input('Enter your First Name :')\n",
    "Lastname = input('Enter your Last Name :')\n",
    "print(Lastname,' ',Firstname)"
   ]
  },
  {
   "cell_type": "markdown",
   "id": "808bbe8f",
   "metadata": {},
   "source": [
    "# Q6:"
   ]
  },
  {
   "cell_type": "code",
   "execution_count": 22,
   "id": "44fe78bd",
   "metadata": {},
   "outputs": [
    {
     "name": "stdout",
     "output_type": "stream",
     "text": [
      "Enter 1st Number :2\n",
      "Enter 2nd Number :2\n",
      "Sum of 1st and 2nd number is : 4\n"
     ]
    }
   ],
   "source": [
    "n1= int(input('Enter 1st Number :'))\n",
    "n2= int(input('Enter 2nd Number :'))\n",
    "print('Sum of 1st and 2nd number is :',n1+n2)"
   ]
  },
  {
   "cell_type": "code",
   "execution_count": null,
   "id": "753a1427",
   "metadata": {},
   "outputs": [],
   "source": []
  }
 ],
 "metadata": {
  "kernelspec": {
   "display_name": "Python 3 (ipykernel)",
   "language": "python",
   "name": "python3"
  },
  "language_info": {
   "codemirror_mode": {
    "name": "ipython",
    "version": 3
   },
   "file_extension": ".py",
   "mimetype": "text/x-python",
   "name": "python",
   "nbconvert_exporter": "python",
   "pygments_lexer": "ipython3",
   "version": "3.9.7"
  }
 },
 "nbformat": 4,
 "nbformat_minor": 5
}
